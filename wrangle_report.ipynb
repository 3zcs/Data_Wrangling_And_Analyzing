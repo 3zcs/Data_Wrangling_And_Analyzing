{
 "cells": [
  {
   "cell_type": "markdown",
   "metadata": {},
   "source": [
    "### Gathering: \n",
    "- we collected three dataset \n",
    "    - download `twitter-archive-enhanced.csv` file from Udacity \n",
    "    - collect missing data from twitter API and store them in `tweet_data.txt`\n",
    "    - download programmatically `image_predictions.tsv` from the web\n",
    " \n",
    " "
   ]
  },
  {
   "cell_type": "markdown",
   "metadata": {},
   "source": [
    "### Assessment: \n",
    "- Tidiness \n",
    "    - `Twitter Archive` table: there are four columns for type of dog (doggo, floofer, pupper, puppo), and we should have each variable forms a column\n",
    "    - `Twitter feed` table: Here we have retweet count and favorite count on table and the rest of data on another table `df_twitter_archive`, and we should have each observational unit forms a table\n",
    "    \n",
    "- Quality \n",
    "    - `Twitter Archive` table: `rating_denominator` is filled with 10 which is duplicate data \n",
    "    - `Twitter Archive` table: `name` has a, an, and the which is Indefinite Articles not names.\n",
    "    - `Twitter Archive` table: `name` also has `quite` if you checked the tweet you'll find that it's not a dog name so we'll replace it with None as well \n",
    "    - `Twitter Archive` table: we have many tweet contain just replies. \n",
    "    - `Twitter Archive` table: we have many tweet are retweet for another account \n",
    "    - `Twitter Archive` table: `retweeted_status_user_id` has this format 4.196984e+09 for user id \n",
    "    - `Twitter Archive` table: There are columns filled with NaNs\n",
    "    - `Twitter feed` table: The only issue with content here is that we have a lot of columns that we are not interested in\n",
    "    - `Images` table: First, columns name, p1, or p1_conf even p1_dog is not descriptive. \n",
    "    - `Images` table: and we have prediction percentage like `4.588540e-02` and another like `0.404640`\n",
    "    - `Images` table: dogs type has underscore `_` between names of two parts, which is not clear for normal user.\n",
    "    \n",
    "    "
   ]
  },
  {
   "cell_type": "markdown",
   "metadata": {},
   "source": [
    "### Cleaning:\n",
    "We fixed all quality and tidiness issues reported on assessment part, then we enhanced the table by:\n",
    "- droping unneeded columns `id`, `expanded_urls`, and `source`.\n",
    "- also `retweet_count`\t`favorite_count`, `tweet_id`, and `rating_numerator` should be integer not float. "
   ]
  },
  {
   "cell_type": "code",
   "execution_count": null,
   "metadata": {},
   "outputs": [],
   "source": []
  }
 ],
 "metadata": {
  "kernelspec": {
   "display_name": "Python 3",
   "language": "python",
   "name": "python3"
  },
  "language_info": {
   "codemirror_mode": {
    "name": "ipython",
    "version": 3
   },
   "file_extension": ".py",
   "mimetype": "text/x-python",
   "name": "python",
   "nbconvert_exporter": "python",
   "pygments_lexer": "ipython3",
   "version": "3.6.6"
  }
 },
 "nbformat": 4,
 "nbformat_minor": 2
}
